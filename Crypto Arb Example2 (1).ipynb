{
 "cells": [
  {
   "cell_type": "code",
   "execution_count": null,
   "metadata": {},
   "outputs": [],
   "source": [
    "import json\n",
    "import numpy as np\n",
    "from time import sleep\n",
    "from pycoingecko import CoinGeckoAPI\n",
    "cg = CoinGeckoAPI()"
   ]
  },
  {
   "cell_type": "code",
   "execution_count": null,
   "metadata": {
    "scrolled": true
   },
   "outputs": [],
   "source": [
    "coin_tickers = cg.get_coin_ticker_by_id(id='bitcoin', target='USD')"
   ]
  },
  {
   "cell_type": "code",
   "execution_count": null,
   "metadata": {},
   "outputs": [],
   "source": [
    "#coin_tickers"
   ]
  },
  {
   "cell_type": "code",
   "execution_count": null,
   "metadata": {},
   "outputs": [],
   "source": [
    "btc = coin_tickers['tickers']"
   ]
  },
  {
   "cell_type": "code",
   "execution_count": null,
   "metadata": {},
   "outputs": [],
   "source": [
    "all_prices = []\n",
    "for i in btc:\n",
    "    if i['target'] == 'USDT' or i['target'] == 'USD' and i['last']<500000:\n",
    "        all_prices.append(i['last'])\n",
    "        \n",
    "starting_price = sum(all_prices)/len(all_prices)\n",
    "processed = []"
   ]
  },
  {
   "cell_type": "code",
   "execution_count": null,
   "metadata": {},
   "outputs": [],
   "source": [
    "while True:\n",
    "    for exchange in btc:\n",
    "        if exchange['target'] == 'USDT' or exchange['target'] == 'USD' and exchange['last'] < 500000:\n",
    "            percent = float(((starting_price - exchange['last']) * 100) / exchange['last'])\n",
    "            if percent >= 1.5 and exchange['last'] >= 100:\n",
    "                processed.append(str(exchange['market']['name']) +':'+ str(exchange['last']))\n",
    "        if len(processed) == 0:\n",
    "            sleep(30)\n",
    "            continue\n",
    "        else:\n",
    "            break\n",
    "    \n",
    "processed"
   ]
  },
  {
   "cell_type": "code",
   "execution_count": null,
   "metadata": {},
   "outputs": [],
   "source": []
  }
 ],
 "metadata": {
  "kernelspec": {
   "display_name": "Python 3",
   "language": "python",
   "name": "python3"
  },
  "language_info": {
   "codemirror_mode": {
    "name": "ipython",
    "version": 3
   },
   "file_extension": ".py",
   "mimetype": "text/x-python",
   "name": "python",
   "nbconvert_exporter": "python",
   "pygments_lexer": "ipython3",
   "version": "3.8.3"
  }
 },
 "nbformat": 4,
 "nbformat_minor": 4
}
