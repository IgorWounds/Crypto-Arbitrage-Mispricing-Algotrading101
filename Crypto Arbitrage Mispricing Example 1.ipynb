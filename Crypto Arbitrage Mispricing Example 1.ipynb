{
 "cells": [
  {
   "cell_type": "code",
   "execution_count": 1,
   "metadata": {},
   "outputs": [],
   "source": [
    "import bitmex\n",
    "import requests\n",
    "import json\n",
    "import datetime\n",
    "from coinbase.wallet.client import Client\n",
    "from time import sleep"
   ]
  },
  {
   "cell_type": "code",
   "execution_count": 2,
   "metadata": {},
   "outputs": [],
   "source": [
    "bitmex_api_key = 'EeE092m3lwJism5mAFc4plfX' \n",
    "bitmex_api_secret = 'kgRLOsB7QOfauIyyNj5VOvPQ8ueLCuWWxwXTAI4ABcqqEMqk'\n",
    "\n",
    "coinbase_API_key = 'cTgYvXpaksr5fFgr'\n",
    "coinbase_API_secret = 'Css2cMN9kTjPNh2XvuHLM9HrdVcX3ty5'"
   ]
  },
  {
   "cell_type": "code",
   "execution_count": 3,
   "metadata": {},
   "outputs": [
    {
     "name": "stderr",
     "output_type": "stream",
     "text": [
      "C:\\Users\\igorr\\anaconda3\\lib\\site-packages\\swagger_spec_validator\\validator20.py:49: SwaggerValidationWarning: Found \"$ref: #/definitions/UserPreferences\" with siblings that will be overwritten. See https://stackoverflow.com/a/48114924 for more information. (path #/definitions/User/properties/preferences)\n",
      "  warnings.warn(\n"
     ]
    }
   ],
   "source": [
    "client = bitmex.bitmex(api_key= bitmex_api_key, api_secret=bitmex_api_secret)\n",
    "\n",
    "clientb = Client(coinbase_API_key, coinbase_API_secret)"
   ]
  },
  {
   "cell_type": "code",
   "execution_count": 4,
   "metadata": {
    "scrolled": true
   },
   "outputs": [
    {
     "name": "stderr",
     "output_type": "stream",
     "text": [
      "C:\\Users\\igorr\\anaconda3\\lib\\site-packages\\bravado_core\\spec.py:462: Warning: JSON format is not registered with bravado-core!\n",
      "  warnings.warn(\n"
     ]
    },
    {
     "name": "stdout",
     "output_type": "stream",
     "text": [
      "BitMex:  19417.21\n",
      "Coinbase:  19713.94\n",
      "No arbitrage possibility\n",
      "BitMex:  19417.21\n",
      "Coinbase:  19713.94\n",
      "No arbitrage possibility\n",
      "BitMex:  19417.21\n",
      "Coinbase:  19713.94\n",
      "No arbitrage possibility\n",
      "BitMex:  19417.21\n",
      "Coinbase:  19713.94\n",
      "No arbitrage possibility\n",
      "BitMex:  19417.21\n",
      "Coinbase:  19713.94\n",
      "No arbitrage possibility\n",
      "BitMex:  19417.21\n",
      "Coinbase:  19713.94\n",
      "No arbitrage possibility\n",
      "BitMex:  19417.21\n",
      "Coinbase:  19713.94\n",
      "No arbitrage possibility\n",
      "BitMex:  19417.21\n",
      "Coinbase:  19713.94\n",
      "No arbitrage possibility\n",
      "BitMex:  19417.21\n",
      "Coinbase:  19713.94\n"
     ]
    },
    {
     "ename": "KeyboardInterrupt",
     "evalue": "",
     "output_type": "error",
     "traceback": [
      "\u001b[1;31m---------------------------------------------------------------------------\u001b[0m",
      "\u001b[1;31mKeyboardInterrupt\u001b[0m                         Traceback (most recent call last)",
      "\u001b[1;32m<ipython-input-4-1c6867e2a24c>\u001b[0m in \u001b[0;36m<module>\u001b[1;34m\u001b[0m\n\u001b[0;32m     11\u001b[0m     \u001b[0mpercent\u001b[0m \u001b[1;33m=\u001b[0m \u001b[0mint\u001b[0m\u001b[1;33m(\u001b[0m\u001b[1;33m(\u001b[0m\u001b[1;33m(\u001b[0m\u001b[0mfloat\u001b[0m\u001b[1;33m(\u001b[0m\u001b[0mcoinbase_btc\u001b[0m\u001b[1;33m[\u001b[0m\u001b[1;34m'amount'\u001b[0m\u001b[1;33m]\u001b[0m\u001b[1;33m)\u001b[0m \u001b[1;33m-\u001b[0m \u001b[0mbitmex_btc\u001b[0m\u001b[1;33m[\u001b[0m\u001b[1;34m'prevClosePrice'\u001b[0m\u001b[1;33m]\u001b[0m\u001b[1;33m)\u001b[0m \u001b[1;33m*\u001b[0m \u001b[1;36m100\u001b[0m\u001b[1;33m)\u001b[0m \u001b[1;33m/\u001b[0m \u001b[0mbitmex_btc\u001b[0m\u001b[1;33m[\u001b[0m\u001b[1;34m'prevClosePrice'\u001b[0m\u001b[1;33m]\u001b[0m\u001b[1;33m)\u001b[0m\u001b[1;33m\u001b[0m\u001b[1;33m\u001b[0m\u001b[0m\n\u001b[0;32m     12\u001b[0m \u001b[1;33m\u001b[0m\u001b[0m\n\u001b[1;32m---> 13\u001b[1;33m     \u001b[0msleep\u001b[0m \u001b[1;33m(\u001b[0m\u001b[1;36m1\u001b[0m\u001b[1;33m)\u001b[0m\u001b[1;33m\u001b[0m\u001b[1;33m\u001b[0m\u001b[0m\n\u001b[0m\u001b[0;32m     14\u001b[0m \u001b[1;33m\u001b[0m\u001b[0m\n\u001b[0;32m     15\u001b[0m     \u001b[1;32mif\u001b[0m \u001b[0mpercent\u001b[0m \u001b[1;33m!=\u001b[0m \u001b[1;36m1.5\u001b[0m\u001b[1;33m:\u001b[0m\u001b[1;33m\u001b[0m\u001b[1;33m\u001b[0m\u001b[0m\n",
      "\u001b[1;31mKeyboardInterrupt\u001b[0m: "
     ]
    }
   ],
   "source": [
    "while True:\n",
    "    positions = client.Position.Position_get(filter=json.dumps({\"symbol\": 'XBTUSD'})).result()[0][0]\n",
    "    bitmex_btc = {}\n",
    "    \n",
    "    bitmex_btc[\"prevClosePrice\"] = positions[\"prevClosePrice\"]\n",
    "    print('BitMex: ',bitmex_btc['prevClosePrice'])\n",
    "    \n",
    "    coinbase_btc = clientb.get_spot_price(currency_pair= 'BTC-USD', date='2020-12-01')\n",
    "    print('Coinbase: ',coinbase_btc['amount'])\n",
    "    \n",
    "    percent = int(((float(coinbase_btc['amount']) - bitmex_btc['prevClosePrice']) * 100) / bitmex_btc['prevClosePrice']) \n",
    "    \n",
    "    sleep (1)\n",
    "    \n",
    "    if percent != 1.5:\n",
    "        print ('No arbitrage possibility')\n",
    "        sleep (0.1)\n",
    "        continue\n",
    "    \n",
    "    else:\n",
    "        if percent == 1.5:\n",
    "            print ('ARBITRAGE TIME')\n",
    "            break"
   ]
  }
 ],
 "metadata": {
  "kernelspec": {
   "display_name": "Python 3",
   "language": "python",
   "name": "python3"
  },
  "language_info": {
   "codemirror_mode": {
    "name": "ipython",
    "version": 3
   },
   "file_extension": ".py",
   "mimetype": "text/x-python",
   "name": "python",
   "nbconvert_exporter": "python",
   "pygments_lexer": "ipython3",
   "version": "3.8.3"
  }
 },
 "nbformat": 4,
 "nbformat_minor": 4
}
